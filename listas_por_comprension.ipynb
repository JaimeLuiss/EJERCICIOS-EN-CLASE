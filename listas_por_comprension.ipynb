{
  "nbformat": 4,
  "nbformat_minor": 0,
  "metadata": {
    "colab": {
      "provenance": []
    },
    "kernelspec": {
      "name": "python3",
      "display_name": "Python 3"
    },
    "language_info": {
      "name": "python"
    }
  },
  "cells": [
    {
      "cell_type": "markdown",
      "source": [
        "La lista por compresión es una construcción sintáctica disponible en Python con la que se pueden crear lista a partir de otros elementos iterales. Siendo una de las contracciones más elegantes del lenguaje. A continuacion, se mostrará la sintaxis básica para trabajar con las listas por compresión."
      ],
      "metadata": {
        "id": "O0j2PmVPn6YL"
      }
    },
    {
      "cell_type": "markdown",
      "source": [
        "*Los tipos de datos muables son todos aquellos a los que es posible cambiar, modificar \n",
        "*Los objetos mutables más comunes son las listas, diccionarios y conjuntos que sirven para guardar\n",
        "\n",
        "SINTAXIS DE LISTAS POR COMPRENSIÓN\n",
        "\n",
        "nueva_lista=[expresión bucle_for condiciones]\n",
        "\n",
        "*Entre corchetes se escribe una expresión seguida de un bucle for sobre el que se itera"
      ],
      "metadata": {
        "id": "NnEpTSUgoiAD"
      }
    },
    {
      "cell_type": "code",
      "source": [
        "#Ejemplo\n",
        "\n",
        "numbers = [1,2,3,4]\n",
        "results = []\n",
        "for n in numbers:\n",
        "  results.append(n+1)\n",
        "results"
      ],
      "metadata": {
        "colab": {
          "base_uri": "https://localhost:8080/"
        },
        "id": "IJbavAdLplKr",
        "outputId": "c6411e69-2775-47e2-8be2-264fc67b2353"
      },
      "execution_count": 5,
      "outputs": [
        {
          "output_type": "execute_result",
          "data": {
            "text/plain": [
              "[2, 3, 4, 5]"
            ]
          },
          "metadata": {},
          "execution_count": 5
        }
      ]
    },
    {
      "cell_type": "markdown",
      "source": [
        "# condiciones en las listas por compresion \n",
        "\n",
        "Es posible añadir condicones a las listas por comprensión en Python. para lo que se tiene que agragar un *if* al final con la condición"
      ],
      "metadata": {
        "id": "tFTRtL-aqBCC"
      }
    },
    {
      "cell_type": "code",
      "source": [
        "numbers = [1,2,3,4]\n",
        "results = [n + 1 for n in numbers if n<5]\n",
        "results"
      ],
      "metadata": {
        "colab": {
          "base_uri": "https://localhost:8080/"
        },
        "id": "hR_vigr5qPJq",
        "outputId": "765e826c-6610-4f18-e713-e3162cf187c0"
      },
      "execution_count": 8,
      "outputs": [
        {
          "output_type": "execute_result",
          "data": {
            "text/plain": [
              "[2, 3, 4, 5]"
            ]
          },
          "metadata": {},
          "execution_count": 8
        }
      ]
    },
    {
      "cell_type": "code",
      "source": [
        "results2=lambda numbers:results\n",
        "print(results2(numbers))"
      ],
      "metadata": {
        "colab": {
          "base_uri": "https://localhost:8080/"
        },
        "id": "NlWvl5hjqgDS",
        "outputId": "fe4c25aa-6441-4013-a685-790e7997e38c"
      },
      "execution_count": 9,
      "outputs": [
        {
          "output_type": "stream",
          "name": "stdout",
          "text": [
            "[2, 3, 4, 5]\n"
          ]
        }
      ]
    },
    {
      "cell_type": "markdown",
      "source": [
        "EJERCICIO 1"
      ],
      "metadata": {
        "id": "MFpUOy7zlvvx"
      }
    },
    {
      "cell_type": "code",
      "execution_count": 4,
      "metadata": {
        "colab": {
          "base_uri": "https://localhost:8080/"
        },
        "id": "pJL9yIv0lKgw",
        "outputId": "a1ecfe23-b9b6-481f-f0a6-5348b748efe7"
      },
      "outputs": [
        {
          "output_type": "stream",
          "name": "stdout",
          "text": [
            "Hasta que número quieres imprimir los pares e impares: 4\n",
            "[0, 2, 4]\n",
            "[1, 3]\n",
            "Hasta que número quieres imprimir los pares e impares: 5\n",
            "[0, 2, 4]\n",
            "[1, 3, 5]\n",
            "Hasta que número quieres imprimir los pares e impares: 4\n",
            "[0, 2, 4]\n",
            "[0, 2, 4]\n"
          ]
        }
      ],
      "source": [
        "n=int(input(\"Hasta que número quieres imprimir los pares e impares: \"))\n",
        "pares=[número for número in range (0,n+1) if número%2==0]\n",
        "print(pares)\n",
        "impares=[número for número in range(0, n+1) if número%2!=0]\n",
        "print(impares)\n",
        "\n",
        "num=int(input(\"Hasta que número quieres imprimir los pares e impares: \"))\n",
        "def hola(n):\n",
        "  pares=[número for número in range (0,n+1) if número%2==0]\n",
        "  print(pares)\n",
        "  impares=[número for número in range(0, n+1) if número%2!=0]\n",
        "  print(impares)\n",
        "hola(num)\n",
        "\n",
        "num=int(input(\"Hasta que número quieres imprimir los pares e impares: \"))\n",
        "mi_lista=[n for n in range(0,num+1)]\n",
        "impares=list(filter(lambda num:num%2==0,mi_lista))\n",
        "print(impares)\n",
        "pares=list(filter(lambda num:num%2==0,mi_lista))\n",
        "print(pares)"
      ]
    },
    {
      "cell_type": "markdown",
      "source": [
        "EJERCICIO 2"
      ],
      "metadata": {
        "id": "y0UeGHYolzWf"
      }
    },
    {
      "cell_type": "code",
      "source": [
        "#Numero perfecto\n",
        "\n",
        "#Tradicional\n",
        "def perfecto(numero):\n",
        "  perf=0\n",
        "  for i in range(1,numero):\n",
        "    if numero%i==0:\n",
        "      perf+=i\n",
        "  if perf==numero:\n",
        "    print(\"Es un numero perfecto\")\n",
        "    return True\n",
        "  else:\n",
        "    print(\"No es un numero perfecto\")\n",
        "numero = 6\n",
        "perfecto(numero)"
      ],
      "metadata": {
        "colab": {
          "base_uri": "https://localhost:8080/"
        },
        "id": "3tP_FJBVl0rQ",
        "outputId": "0e45f076-62be-4aef-8edd-b4e2eae66cc1"
      },
      "execution_count": 21,
      "outputs": [
        {
          "output_type": "stream",
          "name": "stdout",
          "text": [
            "Es un numero perfecto\n"
          ]
        },
        {
          "output_type": "execute_result",
          "data": {
            "text/plain": [
              "True"
            ]
          },
          "metadata": {},
          "execution_count": 21
        }
      ]
    },
    {
      "cell_type": "code",
      "source": [
        "def numeros():\n",
        "  a = int(input(\"Ingresa un numero\"))\n",
        "  b = int(input(\"Ingresa un numero\"))\n",
        "  c = int(input(\"Ingresa un numero\"))\n",
        "  d = int(input(\"Ingresa un numero\"))\n",
        "  perfect=[a,b,c,d]\n",
        "\n",
        "  perfect1=[elemento for elemento in perfect if perfecto(elemento)==True]\n",
        "numeros()"
      ],
      "metadata": {
        "id": "-ru7VBAls5wW"
      },
      "execution_count": null,
      "outputs": []
    },
    {
      "cell_type": "code",
      "source": [
        "lista = [2,3,6,4]\n",
        "perfect2 = list(map(lambda elemento:perfecto(elemento)==True,lista))\n",
        "perfect2"
      ],
      "metadata": {
        "id": "e3n_lbUjs7ve"
      },
      "execution_count": null,
      "outputs": []
    },
    {
      "cell_type": "markdown",
      "source": [
        "EJERCICIO 3"
      ],
      "metadata": {
        "id": "lOipvx60l09g"
      }
    },
    {
      "cell_type": "code",
      "source": [
        "import random \n",
        "#metodo clasico\n",
        "numero1 = [random.randint(0,2000) for x in range(100)]\n",
        "numero2 = [random.randint(0,2000) for x in range(100)]\n",
        "comun = []\n",
        "for a in numero1:\n",
        "  for b in numero2:\n",
        "    if a == b:\n",
        "      comun.append(a)\n",
        "print(comun)"
      ],
      "metadata": {
        "colab": {
          "base_uri": "https://localhost:8080/"
        },
        "id": "hy4ZetUTl2tR",
        "outputId": "b27f1e95-164b-41ab-c1da-0ca11c112be5"
      },
      "execution_count": 24,
      "outputs": [
        {
          "output_type": "stream",
          "name": "stdout",
          "text": [
            "[1340, 587, 231, 231, 978, 1318, 1246, 455, 455]\n"
          ]
        }
      ]
    },
    {
      "cell_type": "code",
      "source": [
        "numero1 = [random.randint(0,2000) for x in range(100)]\n",
        "numero2 = [random.randint(0,2000) for x in range(100)]\n",
        "comun = []\n",
        "comun = list(filter(lambda num: num in numero1, numero2))\n",
        "print(comun)"
      ],
      "metadata": {
        "colab": {
          "base_uri": "https://localhost:8080/"
        },
        "id": "CA0-8KBAtBIF",
        "outputId": "76d81a6e-fe2f-46e9-e28a-670a796c6acf"
      },
      "execution_count": 25,
      "outputs": [
        {
          "output_type": "stream",
          "name": "stdout",
          "text": [
            "[973, 785]\n"
          ]
        }
      ]
    },
    {
      "cell_type": "code",
      "source": [
        "numero1 = [random.randint(0,2000) for x in range(100)]\n",
        "numero2 = [random.randint(0,2000) for x in range(100)]\n",
        "comun = []\n",
        "comun = list(filter(lambda num: num in numero1, numero2))\n",
        "print(comun)"
      ],
      "metadata": {
        "colab": {
          "base_uri": "https://localhost:8080/"
        },
        "id": "X3QzC8TptYWt",
        "outputId": "ae6fed16-5b5f-4278-8326-ef7d48bd4239"
      },
      "execution_count": 26,
      "outputs": [
        {
          "output_type": "stream",
          "name": "stdout",
          "text": [
            "[1853, 1404, 40]\n"
          ]
        }
      ]
    },
    {
      "cell_type": "markdown",
      "source": [],
      "metadata": {
        "id": "UYrgOfhttiMs"
      }
    },
    {
      "cell_type": "code",
      "source": [],
      "metadata": {
        "id": "xR3V_uD-tgPz"
      },
      "execution_count": null,
      "outputs": []
    }
  ]
}